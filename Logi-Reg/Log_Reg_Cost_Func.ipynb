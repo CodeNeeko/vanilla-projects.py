{
  "nbformat": 4,
  "nbformat_minor": 0,
  "metadata": {
    "colab": {
      "provenance": [],
      "authorship_tag": "ABX9TyMgs2UTZzFubdo6ydQO40lN",
      "include_colab_link": true
    },
    "kernelspec": {
      "name": "python3",
      "display_name": "Python 3"
    },
    "language_info": {
      "name": "python"
    }
  },
  "cells": [
    {
      "cell_type": "markdown",
      "metadata": {
        "id": "view-in-github",
        "colab_type": "text"
      },
      "source": [
        "<a href=\"https://colab.research.google.com/github/CodeNeeko/vanilla-projects.py/blob/main/Logi-Reg/Log_Reg_Cost_Func.ipynb\" target=\"_parent\"><img src=\"https://colab.research.google.com/assets/colab-badge.svg\" alt=\"Open In Colab\"/></a>"
      ]
    },
    {
      "cell_type": "code",
      "execution_count": 4,
      "metadata": {
        "id": "WgMZ1g0L2mex"
      },
      "outputs": [],
      "source": [
        "import numpy as np\n",
        "import matplotlib.pyplot as plt\n",
        "# %matplotlib widget\n"
      ]
    },
    {
      "cell_type": "code",
      "source": [
        "X_train = np.array([[0.5, 1.5], [1,1], [1.5, 0.5], [3, 0.5], [2, 2], [1, 2.5]])  #(m,n)\n",
        "y_train = np.array([0, 0, 0, 1, 1, 1])                                           #(m,)"
      ],
      "metadata": {
        "id": "KbZV0Auv24sf"
      },
      "execution_count": 5,
      "outputs": []
    },
    {
      "cell_type": "code",
      "source": [
        "X_train"
      ],
      "metadata": {
        "id": "hTpWSyRa3uKv",
        "colab": {
          "base_uri": "https://localhost:8080/"
        },
        "outputId": "29efe895-d043-4fc4-87e1-330d5c499fdd"
      },
      "execution_count": 6,
      "outputs": [
        {
          "output_type": "execute_result",
          "data": {
            "text/plain": [
              "array([[0.5, 1.5],\n",
              "       [1. , 1. ],\n",
              "       [1.5, 0.5],\n",
              "       [3. , 0.5],\n",
              "       [2. , 2. ],\n",
              "       [1. , 2.5]])"
            ]
          },
          "metadata": {},
          "execution_count": 6
        }
      ]
    },
    {
      "cell_type": "code",
      "source": [
        "def plot_data(X, y, ax, pos_label=\"y=1\", neg_label=\"y=0\", s=80, loc='best' ):\n",
        "\n",
        "    dlblue = '#0096ff'\n",
        "\n",
        "    \"\"\" plots logistic data with two axis \"\"\"\n",
        "    # Find Indices of Positive and Negative Examples\n",
        "    pos = y == 1\n",
        "    neg = y == 0\n",
        "    pos = pos.reshape(-1,)  #work with 1D or 1D y vectors\n",
        "    neg = neg.reshape(-1,)\n",
        "\n",
        "    # Plot examples\n",
        "    ax.scatter(X[pos, 0], X[pos, 1], marker='x', s=s, c = 'red', label=pos_label)\n",
        "    ax.scatter(X[neg, 0], X[neg, 1], marker='o', s=s, label=neg_label, facecolors='none', edgecolors=dlblue, lw=3)\n",
        "    ax.legend(loc=loc)\n",
        "\n",
        "    ax.figure.canvas.toolbar_visible = False\n",
        "    ax.figure.canvas.header_visible = False\n",
        "    ax.figure.canvas.footer_visible = False"
      ],
      "metadata": {
        "id": "aPbIws7u2Xt1"
      },
      "execution_count": 10,
      "outputs": []
    },
    {
      "cell_type": "code",
      "source": [
        "fig,ax = plt.subplots(1,1,figsize=(4,4))\n",
        "plot_data(X_train, y_train, ax)\n",
        "\n",
        "# Set both axes to be from 0-4\n",
        "ax.axis([0, 4, 0, 3.5])\n",
        "ax.set_ylabel('$x_1$', fontsize=12)\n",
        "ax.set_xlabel('$x_0$', fontsize=12)\n",
        "plt.show()"
      ],
      "metadata": {
        "colab": {
          "base_uri": "https://localhost:8080/",
          "height": 397
        },
        "id": "v1vQuw8F2G0k",
        "outputId": "7a995631-8370-4fb6-c7c0-06e7540b8eef"
      },
      "execution_count": 11,
      "outputs": [
        {
          "output_type": "display_data",
          "data": {
            "text/plain": [
              "<Figure size 400x400 with 1 Axes>"
            ],
            "image/png": "[encoded data removed]"
          },
          "metadata": {}
        }
      ]
    },
    {
      "cell_type": "code",
      "source": [
        "def sigmoid(z):\n",
        "    sig = 1.0/(1.0+np.exp(-z))\n",
        "    return sig\n",
        "\n",
        "def compute_cost_logistic(X, y, w, b):\n",
        "    \"\"\"\n",
        "    Computes cost\n",
        "\n",
        "    Args:\n",
        "      X (ndarray (m,n)): Data, m examples with n features\n",
        "      y (ndarray (m,)) : target values\n",
        "      w (ndarray (n,)) : model parameters\n",
        "      b (scalar)       : model parameter\n",
        "\n",
        "    Returns:\n",
        "      cost (scalar): cost\n",
        "    \"\"\"\n",
        "\n",
        "    m = X.shape[0]\n",
        "    cost = 0\n",
        "\n",
        "    for i in range(m):\n",
        "\n",
        "        z_i = np.dot(X[i], w) + b\n",
        "        f_wb_i = sigmoid(z_i)\n",
        "        cost += -y[i]*np.log(f_wb_i) - (1-y[i])*np.log(1-f_wb_i)\n",
        "\n",
        "    cost = cost / m\n",
        "\n",
        "    return cost"
      ],
      "metadata": {
        "id": "Hc_vV9Yv2N0W"
      },
      "execution_count": 12,
      "outputs": []
    },
    {
      "cell_type": "code",
      "source": [
        "w_tmp = np.array([1,1])\n",
        "b_tmp = -3\n",
        "print(compute_cost_logistic(X_train, y_train, w_tmp, b_tmp))"
      ],
      "metadata": {
        "colab": {
          "base_uri": "https://localhost:8080/"
        },
        "id": "D3BRqlYa4c9-",
        "outputId": "8a017283-5646-41a0-8e74-eee436b3f439"
      },
      "execution_count": 14,
      "outputs": [
        {
          "output_type": "stream",
          "name": "stdout",
          "text": [
            "0.36686678640551745\n"
          ]
        }
      ]
    },
    {
      "cell_type": "code",
      "source": [
        "w_tmp = np.array([1,1])\n",
        "b_tmp = -4\n",
        "print(compute_cost_logistic(X_train, y_train, w_tmp, b_tmp))"
      ],
      "metadata": {
        "colab": {
          "base_uri": "https://localhost:8080/"
        },
        "id": "CT3-dCYN4fxu",
        "outputId": "0bdcc513-26d3-49e0-a7e0-1451828e7cd5"
      },
      "execution_count": 15,
      "outputs": [
        {
          "output_type": "stream",
          "name": "stdout",
          "text": [
            "0.5036808636748461\n"
          ]
        }
      ]
    },
    {
      "cell_type": "code",
      "source": [],
      "metadata": {
        "id": "EJsRlAt64phF"
      },
      "execution_count": null,
      "outputs": []
    }
  ]
}