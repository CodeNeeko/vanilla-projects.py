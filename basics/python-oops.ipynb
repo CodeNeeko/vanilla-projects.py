{
 "cells": [
  {
   "cell_type": "code",
   "execution_count": 1,
   "id": "5950aa6b",
   "metadata": {
    "_cell_guid": "b1076dfc-b9ad-4769-8c92-a6c4dae69d19",
    "_uuid": "8f2839f25d086af736a60e9eeb907d3b93b6e0e5",
    "execution": {
     "iopub.execute_input": "2023-09-04T03:58:09.875936Z",
     "iopub.status.busy": "2023-09-04T03:58:09.875392Z",
     "iopub.status.idle": "2023-09-04T03:58:09.889152Z",
     "shell.execute_reply": "2023-09-04T03:58:09.888316Z"
    },
    "papermill": {
     "duration": 0.024271,
     "end_time": "2023-09-04T03:58:09.891396",
     "exception": false,
     "start_time": "2023-09-04T03:58:09.867125",
     "status": "completed"
    },
    "tags": []
   },
   "outputs": [],
   "source": [
    "class Employee: # Class\n",
    "    \n",
    "    raise_amount = 1.05 # Class Variables\n",
    "    num_of_emps = 0\n",
    "    \n",
    "    def __init__(self, fname, lname, pay):\n",
    "        self.fname = fname\n",
    "        self.lname = lname\n",
    "        self.pay = pay\n",
    "        self.email = fname + '.' + lname + '@company.com'\n",
    "        \n",
    "        Employee.num_of_emps += 1\n",
    "        \n",
    "        \n",
    "    def fullname(self):\n",
    "        print('{} {}'.format(self.fname, self.lname))\n",
    "        \n",
    "    def apply_raise(self):\n",
    "        self.pay = int(self.pay * self.raise_amount)\n",
    "        \n",
    "    # Class Methods\n",
    "    @classmethod \n",
    "    def  set_raise_amount(cls, amount):\n",
    "        cls.raise_amount = amount\n",
    "        \n",
    "    @classmethod\n",
    "    def from_string(cls, emp_str):\n",
    "        fname, lname, pay = emp_str.split(' ')\n",
    "        return cls(fname, lname, pay)\n",
    "    \n",
    "    # Static Method\n",
    "    @staticmethod\n",
    "    def is_workday(day):\n",
    "        if(day.weekday() == 5 or day.weekday() == 6):\n",
    "            return False\n",
    "        else:\n",
    "            return True\n",
    "        \n",
    "\n",
    "# Instances\n",
    "emp_1 = Employee('hello', 'world', 6000) \n",
    "emp_2 = Employee('user', 'drop', 8520)\n"
   ]
  },
  {
   "cell_type": "code",
   "execution_count": 2,
   "id": "1438648a",
   "metadata": {
    "execution": {
     "iopub.execute_input": "2023-09-04T03:58:09.904287Z",
     "iopub.status.busy": "2023-09-04T03:58:09.903698Z",
     "iopub.status.idle": "2023-09-04T03:58:09.909729Z",
     "shell.execute_reply": "2023-09-04T03:58:09.908597Z"
    },
    "papermill": {
     "duration": 0.014887,
     "end_time": "2023-09-04T03:58:09.912048",
     "exception": false,
     "start_time": "2023-09-04T03:58:09.897161",
     "status": "completed"
    },
    "tags": []
   },
   "outputs": [
    {
     "name": "stdout",
     "output_type": "stream",
     "text": [
      "hello world\n",
      "6000\n",
      "6300\n"
     ]
    }
   ],
   "source": [
    "emp_1.fullname()\n",
    "print(emp_1.pay)\n",
    "emp_1.apply_raise()\n",
    "print(emp_1.pay)"
   ]
  },
  {
   "cell_type": "code",
   "execution_count": 3,
   "id": "566e686f",
   "metadata": {
    "execution": {
     "iopub.execute_input": "2023-09-04T03:58:09.923992Z",
     "iopub.status.busy": "2023-09-04T03:58:09.923633Z",
     "iopub.status.idle": "2023-09-04T03:58:09.928420Z",
     "shell.execute_reply": "2023-09-04T03:58:09.927426Z"
    },
    "papermill": {
     "duration": 0.013696,
     "end_time": "2023-09-04T03:58:09.931056",
     "exception": false,
     "start_time": "2023-09-04T03:58:09.917360",
     "status": "completed"
    },
    "tags": []
   },
   "outputs": [
    {
     "name": "stdout",
     "output_type": "stream",
     "text": [
      "1.1\n",
      "1.2\n",
      "2\n"
     ]
    }
   ],
   "source": [
    "# print(emp_1.__dict__)\n",
    "# print(Employee.__dict__)\n",
    "Employee.raise_amount = 1.1\n",
    "emp_1.raise_amount = 1.2 # Instance Variables\n",
    "\n",
    "print(Employee.raise_amount)\n",
    "print(emp_1.raise_amount)\n",
    "print(Employee.num_of_emps)"
   ]
  },
  {
   "cell_type": "code",
   "execution_count": 4,
   "id": "1e7f89c6",
   "metadata": {
    "execution": {
     "iopub.execute_input": "2023-09-04T03:58:09.942765Z",
     "iopub.status.busy": "2023-09-04T03:58:09.942421Z",
     "iopub.status.idle": "2023-09-04T03:58:09.946707Z",
     "shell.execute_reply": "2023-09-04T03:58:09.945661Z"
    },
    "papermill": {
     "duration": 0.012724,
     "end_time": "2023-09-04T03:58:09.948827",
     "exception": false,
     "start_time": "2023-09-04T03:58:09.936103",
     "status": "completed"
    },
    "tags": []
   },
   "outputs": [],
   "source": [
    "Employee.set_raise_amount(1.05) \n",
    "emp_1.set_raise_amount(1.05)"
   ]
  },
  {
   "cell_type": "code",
   "execution_count": 5,
   "id": "ae369e9f",
   "metadata": {
    "execution": {
     "iopub.execute_input": "2023-09-04T03:58:09.960521Z",
     "iopub.status.busy": "2023-09-04T03:58:09.960203Z",
     "iopub.status.idle": "2023-09-04T03:58:09.967959Z",
     "shell.execute_reply": "2023-09-04T03:58:09.966952Z"
    },
    "papermill": {
     "duration": 0.015999,
     "end_time": "2023-09-04T03:58:09.969946",
     "exception": false,
     "start_time": "2023-09-04T03:58:09.953947",
     "status": "completed"
    },
    "tags": []
   },
   "outputs": [
    {
     "data": {
      "text/plain": [
       "'Michael.Scott@company.com'"
      ]
     },
     "execution_count": 5,
     "metadata": {},
     "output_type": "execute_result"
    }
   ],
   "source": [
    "emp_1_str = 'Michael Scott 5000'\n",
    "emp_2_str = 'Dwight Schrute 4000'\n",
    "first, last, pay = emp_1_str.split(' ')\n",
    "new_emp_1 = Employee(first , last , pay)\n",
    "new_emp_1.email"
   ]
  },
  {
   "cell_type": "code",
   "execution_count": 6,
   "id": "53ee8506",
   "metadata": {
    "execution": {
     "iopub.execute_input": "2023-09-04T03:58:09.982309Z",
     "iopub.status.busy": "2023-09-04T03:58:09.981951Z",
     "iopub.status.idle": "2023-09-04T03:58:09.988322Z",
     "shell.execute_reply": "2023-09-04T03:58:09.987283Z"
    },
    "papermill": {
     "duration": 0.015118,
     "end_time": "2023-09-04T03:58:09.990356",
     "exception": false,
     "start_time": "2023-09-04T03:58:09.975238",
     "status": "completed"
    },
    "tags": []
   },
   "outputs": [
    {
     "data": {
      "text/plain": [
       "'Dwight.Schrute@company.com'"
      ]
     },
     "execution_count": 6,
     "metadata": {},
     "output_type": "execute_result"
    }
   ],
   "source": [
    "new_emp_2 = Employee.from_string(emp_2_str)\n",
    "new_emp_2.email"
   ]
  },
  {
   "cell_type": "code",
   "execution_count": 7,
   "id": "0c9309c7",
   "metadata": {
    "execution": {
     "iopub.execute_input": "2023-09-04T03:58:10.003815Z",
     "iopub.status.busy": "2023-09-04T03:58:10.003461Z",
     "iopub.status.idle": "2023-09-04T03:58:10.008501Z",
     "shell.execute_reply": "2023-09-04T03:58:10.007467Z"
    },
    "papermill": {
     "duration": 0.014041,
     "end_time": "2023-09-04T03:58:10.010741",
     "exception": false,
     "start_time": "2023-09-04T03:58:09.996700",
     "status": "completed"
    },
    "tags": []
   },
   "outputs": [
    {
     "name": "stdout",
     "output_type": "stream",
     "text": [
      "False\n"
     ]
    }
   ],
   "source": [
    "import datetime\n",
    "my_date = datetime.date(2016, 7, 10)\n",
    "# print(my_date.weekday())\n",
    "print(Employee.is_workday(my_date))"
   ]
  },
  {
   "cell_type": "code",
   "execution_count": 8,
   "id": "a52c6110",
   "metadata": {
    "execution": {
     "iopub.execute_input": "2023-09-04T03:58:10.023501Z",
     "iopub.status.busy": "2023-09-04T03:58:10.022869Z",
     "iopub.status.idle": "2023-09-04T03:58:10.032290Z",
     "shell.execute_reply": "2023-09-04T03:58:10.031450Z"
    },
    "papermill": {
     "duration": 0.018062,
     "end_time": "2023-09-04T03:58:10.034173",
     "exception": false,
     "start_time": "2023-09-04T03:58:10.016111",
     "status": "completed"
    },
    "tags": []
   },
   "outputs": [],
   "source": [
    "class Employee:\n",
    "    \n",
    "    raise_amount = 1.05 \n",
    "    num_of_emps = 0\n",
    "    \n",
    "    def __init__(self, fname, lname, pay):\n",
    "        self.fname = fname\n",
    "        self.lname = lname\n",
    "        self.pay = pay\n",
    "        self.email = fname + '.' + lname + '@company.com'\n",
    "        \n",
    "        Employee.num_of_emps += 1\n",
    "        \n",
    "        \n",
    "    def fullname(self):\n",
    "        return '{} {}'.format(self.fname, self.lname)\n",
    "        \n",
    "    def apply_raise(self):\n",
    "        self.pay = int(self.pay * self.raise_amount)\n",
    "        \n",
    "# Inheritance\n",
    "class Developer(Employee):\n",
    "    raise_amount = 1.10\n",
    "    \n",
    "    def __init__(self, fname, lname, pay, prog_lang):\n",
    "        super().__init__(fname, lname, pay) # Calling parent init method to handle other arguments\n",
    "        self.prog_lang = prog_lang\n",
    "        \n",
    "class Manager(Employee):\n",
    "    \n",
    "    def __init__(self, fname, lname, pay, employees=None):\n",
    "        super().__init__(fname, lname, pay) \n",
    "        \n",
    "        if employees is None:\n",
    "            self.employees = []\n",
    "        else:\n",
    "            self.employees = employees\n",
    "    \n",
    "    def add_emp(self, emp):\n",
    "        if emp not in self.employees:\n",
    "            self.employees.append(emp)\n",
    "            \n",
    "    def remove_emp(self, emp):\n",
    "        if emp in self.employees:\n",
    "            self.employees.remove(emp)\n",
    "    \n",
    "    def display_emp(self):\n",
    "        for emp in self.employees:\n",
    "            print('-->', emp.fullname())\n",
    "    "
   ]
  },
  {
   "cell_type": "code",
   "execution_count": 9,
   "id": "b5a7bf6e",
   "metadata": {
    "execution": {
     "iopub.execute_input": "2023-09-04T03:58:10.046848Z",
     "iopub.status.busy": "2023-09-04T03:58:10.046493Z",
     "iopub.status.idle": "2023-09-04T03:58:10.052702Z",
     "shell.execute_reply": "2023-09-04T03:58:10.051651Z"
    },
    "papermill": {
     "duration": 0.014972,
     "end_time": "2023-09-04T03:58:10.054856",
     "exception": false,
     "start_time": "2023-09-04T03:58:10.039884",
     "status": "completed"
    },
    "tags": []
   },
   "outputs": [
    {
     "name": "stdout",
     "output_type": "stream",
     "text": [
      "False\n",
      "True\n"
     ]
    }
   ],
   "source": [
    "emp_1 = Employee('Pam', 'Beesley', 6000)\n",
    "emp_2 = Employee('Kevin', 'Malone', 6000)\n",
    "\n",
    "dev_1 = Developer('Stanley', 'Hudson', 5000, 'C++')\n",
    "dev_2 = Developer('Dwight', 'Schrute', 6000, 'Ruby')\n",
    "\n",
    "mgr_1 = Manager('Michael', 'Scott', 5000, [emp_1])\n",
    "\n",
    "# mgr_1.display_emp()\n",
    "\n",
    "# mgr_1.add_emp(emp_2)\n",
    "# mgr_1.display_emp()\n",
    "# mgr_1.remove_emp(emp_2)\n",
    "\n",
    "# mgr_1.display_emp()\n",
    "\n",
    "# Testing\n",
    "print(isinstance(mgr_1, Developer))\n",
    "print(issubclass(Manager, Employee))\n"
   ]
  },
  {
   "cell_type": "code",
   "execution_count": 10,
   "id": "0ae4ba3d",
   "metadata": {
    "execution": {
     "iopub.execute_input": "2023-09-04T03:58:10.067239Z",
     "iopub.status.busy": "2023-09-04T03:58:10.066897Z",
     "iopub.status.idle": "2023-09-04T03:58:10.071289Z",
     "shell.execute_reply": "2023-09-04T03:58:10.070320Z"
    },
    "papermill": {
     "duration": 0.01277,
     "end_time": "2023-09-04T03:58:10.073090",
     "exception": false,
     "start_time": "2023-09-04T03:58:10.060320",
     "status": "completed"
    },
    "tags": []
   },
   "outputs": [],
   "source": [
    "# dev_1 = Developer('Michael', 'Scott', 5000, 'C++')\n",
    "# dev_2 = Developer('Jim', 'Halpert', 4000, 'Ruby')\n",
    "# dev_3 = Employee('Dwight', 'Schrute', 6000)\n",
    "\n",
    "# print(help(Developer))\n",
    "\n",
    "# print(dev_1.email)\n",
    "# print(dev_2.email)\n",
    "# print(dev_2.prog_lang)\n",
    "\n",
    "# print(dev_1.pay)\n",
    "# dev_1.apply_raise()\n",
    "# print(dev_1.pay)"
   ]
  },
  {
   "cell_type": "code",
   "execution_count": 11,
   "id": "85407ebb",
   "metadata": {
    "execution": {
     "iopub.execute_input": "2023-09-04T03:58:10.085563Z",
     "iopub.status.busy": "2023-09-04T03:58:10.085214Z",
     "iopub.status.idle": "2023-09-04T03:58:10.094396Z",
     "shell.execute_reply": "2023-09-04T03:58:10.093315Z"
    },
    "papermill": {
     "duration": 0.017802,
     "end_time": "2023-09-04T03:58:10.096467",
     "exception": false,
     "start_time": "2023-09-04T03:58:10.078665",
     "status": "completed"
    },
    "tags": []
   },
   "outputs": [
    {
     "name": "stdout",
     "output_type": "stream",
     "text": [
      "11\n"
     ]
    }
   ],
   "source": [
    "# Special Methods\n",
    "\n",
    "class Employee:\n",
    "    \n",
    "    raise_amt = 1.04\n",
    "    \n",
    "    def __init__(self, fname, lname, pay):\n",
    "        self.fname = fname\n",
    "        self.lname = lname\n",
    "        self.pay = pay\n",
    "        self.email = fname + '.' + lname + '@company.com'\n",
    "        \n",
    "    def fullname(self):\n",
    "        return '{} {}'.format(self.fname, self.lname)\n",
    "        \n",
    "    def apply_raise(self):\n",
    "        self.pay = int(self.pay * self.raise_amount)\n",
    "        \n",
    "    def __repr__(self):\n",
    "        return \"Employee('{}', '{}', {})\".format(self.fname, self.lname, self.pay)\n",
    "    \n",
    "    def __str__(self):\n",
    "        return '{} - {}'.format(self.fullname(), self.email)\n",
    "    \n",
    "    def __add__(self, other):\n",
    "        return self.pay + other.pay\n",
    "    \n",
    "    def __len__(self):\n",
    "        return len(self.fullname())\n",
    "        \n",
    "\n",
    "emp_1 = Employee('Pam', 'Beesley', 6000)\n",
    "emp_2 = Employee('Kevin', 'Malone', 6000)\n",
    "\n",
    "print(len(emp_1))\n",
    "\n",
    "# print(emp_1 + emp_2)\n",
    "\n",
    "# print(emp_1)\n",
    "# repr(emp_1)\n",
    "# str(emp_1)"
   ]
  },
  {
   "cell_type": "code",
   "execution_count": 12,
   "id": "f9523752",
   "metadata": {
    "execution": {
     "iopub.execute_input": "2023-09-04T03:58:10.109270Z",
     "iopub.status.busy": "2023-09-04T03:58:10.108934Z",
     "iopub.status.idle": "2023-09-04T03:58:10.117281Z",
     "shell.execute_reply": "2023-09-04T03:58:10.116217Z"
    },
    "papermill": {
     "duration": 0.01765,
     "end_time": "2023-09-04T03:58:10.119862",
     "exception": false,
     "start_time": "2023-09-04T03:58:10.102212",
     "status": "completed"
    },
    "tags": []
   },
   "outputs": [
    {
     "name": "stdout",
     "output_type": "stream",
     "text": [
      "Michael\n",
      "Michael.Scott@email.com\n",
      "Michael Scott\n",
      "Record Deleted\n",
      "None.None@email.com\n"
     ]
    }
   ],
   "source": [
    "# Property Decorators\n",
    "\n",
    "class Employee: # Class\n",
    "    \n",
    "    def __init__(self, fname, lname, pay):\n",
    "        self.fname = fname\n",
    "        self.lname = lname\n",
    "        self.pay = pay\n",
    "#         self.email = fname + '.' + lname + '@company.com'\n",
    "    \n",
    "    @property\n",
    "    def email(self):\n",
    "        return '{}.{}@email.com'.format(self.fname, self.lname)\n",
    "    \n",
    "    @property\n",
    "    def fullname(self):\n",
    "        return '{} {}'.format(self.fname, self.lname)\n",
    "    \n",
    "    @fullname.setter\n",
    "    def fullname(self, name):\n",
    "        fname, lname = name.split(' ')\n",
    "        self.fname = fname\n",
    "        self.lname = lname\n",
    "        \n",
    "    @fullname.deleter\n",
    "    def fullname(self):\n",
    "        print('Record Deleted')\n",
    "        self.fname = None\n",
    "        self.lname = None\n",
    "    \n",
    "emp_1 = Employee('John', 'Doe', 5000)\n",
    "\n",
    "emp_1.fullname = 'Michael Scott'\n",
    "    \n",
    "print(emp_1.fname)\n",
    "print(emp_1.email)\n",
    "print(emp_1.fullname)\n",
    "del emp_1.fullname\n",
    "print(emp_1.email)"
   ]
  },
  {
   "cell_type": "code",
   "execution_count": null,
   "id": "53d40cf8",
   "metadata": {
    "papermill": {
     "duration": 0.006703,
     "end_time": "2023-09-04T03:58:10.132329",
     "exception": false,
     "start_time": "2023-09-04T03:58:10.125626",
     "status": "completed"
    },
    "tags": []
   },
   "outputs": [],
   "source": [
    "\n"
   ]
  }
 ],
 "kernelspec": {
  "display_name": "Python 3",
  "language": "python",
  "name": "python3"
 },
 "language_info": {
  "codemirror_mode": {
   "name": "ipython",
   "version": 3
  },
  "file_extension": ".py",
  "mimetype": "text/x-python",
  "name": "python",
  "nbconvert_exporter": "python",
  "pygments_lexer": "ipython3",
  "version": "3.6.4"
 },
 "metadata": {
  "kernelspec": {
   "display_name": "Python 3",
   "language": "python",
   "name": "python3"
  },
  "language_info": {
   "codemirror_mode": {
    "name": "ipython",
    "version": 3
   },
   "file_extension": ".py",
   "mimetype": "text/x-python",
   "name": "python",
   "nbconvert_exporter": "python",
   "pygments_lexer": "ipython3",
   "version": "3.10.12"
  },
  "papermill": {
   "default_parameters": {},
   "duration": 3.701098,
   "end_time": "2023-09-04T03:58:10.458594",
   "environment_variables": {},
   "exception": null,
   "input_path": "__notebook__.ipynb",
   "output_path": "__notebook__.ipynb",
   "parameters": {},
   "start_time": "2023-09-04T03:58:06.757496",
   "version": "2.4.0"
  }
 },
 "nbformat": 4,
 "nbformat_minor": 5
}
